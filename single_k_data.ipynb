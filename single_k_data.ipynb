{
 "cells": [
  {
   "cell_type": "code",
   "execution_count": null,
   "metadata": {
    "collapsed": true
   },
   "outputs": [],
   "source": [
    "import os\n",
    "import math"
   ]
  },
  {
   "cell_type": "code",
   "execution_count": null,
   "metadata": {
    "collapsed": false
   },
   "outputs": [],
   "source": [
    "def read_k_data(file_path):\n",
    "    \"\"\" Read kt vs time data from Lammps simulation output file \"\"\"\n",
    "    dt = 5\n",
    "    with open(file_path, 'r') as j:\n",
    "        a = []\n",
    "        time = []\n",
    "        for line_index, line in enumerate(j, start=1):\n",
    "            if line_index >= 200015: \n",
    "                l = line.split()\n",
    "                t = (float(l[0]) - 1) * dt / 1000.0\n",
    "                a.append(float(l[3]))\n",
    "                time.append(t)\n",
    "    return a, time\n",
    "\n",
    "def convert_k_data(k_data):\n",
    "    \"\"\" Convert Lammps output data to W/mK thermal conductivity \"\"\"\n",
    "    volume = 80 * 80 * 80 \n",
    "    dt = 5\n",
    "    k_b = 0.001987\n",
    "    T = 300.0\n",
    "    conversion = 69443.84\n",
    "    new_kt = []\n",
    "    for data_index, data in enumerate(k_data):\n",
    "        if data_index == 0:\n",
    "            kt =  data / 2 * volume * dt / (k_b * math.pow(T, 2)) * conversion\n",
    "            new_kt.append(kt)\n",
    "        if data_index > 0:\n",
    "            kt =  kt + data * volume * dt / (k_b * math.pow(T, 2)) * conversion\n",
    "            new_kt.append(kt)\n",
    "    return new_kt\n",
    "\n",
    "def avg_k_data(k_data_list):\n",
    "    \"\"\" Calculate average of thermal conductivity for multiple runs \"\"\"\n",
    "    n = len(k_data_list[0])\n",
    "    for i in k_data_list:\n",
    "        m = len(i)\n",
    "        if m != n:\n",
    "            print('Data mismatch', i)\n",
    "    avg_data = []\n",
    "    for data_index in range(n):\n",
    "        data = sum([i[data_index] for i in k_data_list])/len(k_data_list)\n",
    "        avg_data.append(data)\n",
    "    return avg_data\n",
    "\n",
    "def get_kt(kt, time, t0=5, t1=10):\n",
    "    \"\"\" Get approximate thermal conductivity value for a single run \"\"\"\n",
    "    start = time.index(t0)\n",
    "    end = time.index(t1)\n",
    "    kt_data = []\n",
    "    for i in range(start, end):\n",
    "        kt_data.append(kt[i])\n",
    "    kt_avg = sum(kt[start:end]) / len(kt[start:end])\n",
    "    return kt_avg\n",
    "\n",
    "def read_runs(trial_dir):\n",
    "    \"\"\" Read multiple runs for single trial \"\"\"\n",
    "    run_data = []\n",
    "    print('\\n------ %s ------' % os.path.split(trial_dir)[-1])\n",
    "    for run_index, run in enumerate(os.listdir(trial_dir)):\n",
    "        run_dir = os.path.join(trial_dir, run)\n",
    "        if os.path.isdir(run_dir):\n",
    "            data_path = os.path.join(run_dir, 'J0Jt_t.dat')\n",
    "            kt, time = read_k_data(data_path)\n",
    "            k_data = convert_k_data(kt)\n",
    "            run_data.append(k_data)\n",
    "            print('%s -> kt: %.3f W/mK' % (run, get_kt(k_data, time)))\n",
    "    avg_kt = avg_k_data(run_data)\n",
    "    print('Average -> %.3f W/mK' % get_kt(avg_kt, time))\n",
    "    return run_data, avg_kt, time\n",
    "\n",
    "def read_trials(mult_trial_dir):\n",
    "    \"\"\" Read multiple trials with multiple runs\"\"\"\n",
    "    trial_data = []\n",
    "    for single_trial in os.listdir(mult_trial_dir):\n",
    "        single_trial_dir = os.path.join(mult_trial_dir, single_trial)\n",
    "        if os.path.isdir(single_trial_dir):\n",
    "            run_data, avg_kt, time = read_runs(single_trial_dir)\n",
    "            trial_data.append(avg_kt)\n",
    "    return trial_data"
   ]
  },
  {
   "cell_type": "markdown",
   "metadata": {},
   "source": [
    "## Read results for single trial and 5 runs"
   ]
  },
  {
   "cell_type": "code",
   "execution_count": null,
   "metadata": {
    "collapsed": false
   },
   "outputs": [],
   "source": [
    "trial_dir = os.path.join(os.getcwd(), 'Results', 'Trial4', 'Trial3-1')\n",
    "\n",
    "run_data, avg_kt, time = read_runs(trial_dir)"
   ]
  },
  {
   "cell_type": "markdown",
   "metadata": {},
   "source": [
    "## Plot results for each run and average "
   ]
  },
  {
   "cell_type": "code",
   "execution_count": null,
   "metadata": {
    "collapsed": false
   },
   "outputs": [],
   "source": [
    "%pylab inline\n",
    "import matplotlib.pyplot as plt\n",
    "\n",
    "limit = 2000\n",
    "lgnd = []\n",
    "for i, rd in enumerate(run_data, start=1):\n",
    "    plt.plot(time[:limit], rd[:limit])\n",
    "    lgnd.append('Run%i' % i)\n",
    "\n",
    "plt.plot(time[:limit], avg_kt[:limit], '--k')\n",
    "lgnd.append('Average')\n",
    "\n",
    "plt.title('Single MOF Run')\n",
    "plt.ylabel('kt')\n",
    "plt.xlabel('Time')\n",
    "\n",
    "plt.legend(lgnd, loc=4, fontsize=10)"
   ]
  },
  {
   "cell_type": "markdown",
   "metadata": {
    "collapsed": false
   },
   "source": [
    "## Read multiple trials with multiple runs"
   ]
  },
  {
   "cell_type": "code",
   "execution_count": null,
   "metadata": {
    "collapsed": false
   },
   "outputs": [],
   "source": [
    "mult_trial_dir = os.path.join(os.getcwd(), 'Results', 'Trial4')\n",
    "\n",
    "trial_data = read_trials(mult_trial_dir)"
   ]
  },
  {
   "cell_type": "markdown",
   "metadata": {},
   "source": [
    "## Plot multiple trials"
   ]
  },
  {
   "cell_type": "code",
   "execution_count": null,
   "metadata": {
    "collapsed": false
   },
   "outputs": [],
   "source": [
    "%pylab inline\n",
    "import matplotlib.pyplot as plt\n",
    "\n",
    "trial_id = [1, 4, 6, 3, 5, 2]\n",
    "limit = 2000\n",
    "lgnd = []\n",
    "for i, rd in enumerate(trial_data, start=0):\n",
    "    plt.plot(time[:limit], rd[:limit])\n",
    "    lgnd.append('Trial%i' % trial_id[i])\n",
    "\n",
    "plt.title('Multiple Trials')\n",
    "plt.ylabel('kt')\n",
    "plt.xlabel('Time')\n",
    "\n",
    "plt.legend(lgnd, loc=4, fontsize=10)"
   ]
  },
  {
   "cell_type": "code",
   "execution_count": null,
   "metadata": {
    "collapsed": false
   },
   "outputs": [],
   "source": []
  },
  {
   "cell_type": "code",
   "execution_count": null,
   "metadata": {
    "collapsed": false
   },
   "outputs": [],
   "source": []
  },
  {
   "cell_type": "code",
   "execution_count": null,
   "metadata": {
    "collapsed": false
   },
   "outputs": [],
   "source": []
  },
  {
   "cell_type": "code",
   "execution_count": null,
   "metadata": {
    "collapsed": true
   },
   "outputs": [],
   "source": []
  }
 ],
 "metadata": {
  "kernelspec": {
   "display_name": "Python 3",
   "language": "python",
   "name": "python3"
  },
  "language_info": {
   "codemirror_mode": {
    "name": "ipython",
    "version": 3
   },
   "file_extension": ".py",
   "mimetype": "text/x-python",
   "name": "python",
   "nbconvert_exporter": "python",
   "pygments_lexer": "ipython3",
   "version": "3.5.1"
  }
 },
 "nbformat": 4,
 "nbformat_minor": 0
}
