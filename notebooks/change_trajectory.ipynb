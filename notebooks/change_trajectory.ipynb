{
 "cells": [
  {
   "cell_type": "code",
   "execution_count": 1,
   "metadata": {},
   "outputs": [],
   "source": [
    "import os\n",
    "\n",
    "from teemof.trajectory import change_xyz_trajectories"
   ]
  },
  {
   "cell_type": "markdown",
   "metadata": {},
   "source": [
    "### Enter directory to change the xyz trajectories"
   ]
  },
  {
   "cell_type": "code",
   "execution_count": 4,
   "metadata": {
    "collapsed": true
   },
   "outputs": [],
   "source": [
    "trial_dir = os.path.join(os.getcwd(), '../Results', 'Trial9')"
   ]
  },
  {
   "cell_type": "code",
   "execution_count": null,
   "metadata": {},
   "outputs": [
    {
     "name": "stdout",
     "output_type": "stream",
     "text": [
      "\n",
      "1 - Trial9-8\n",
      "Trajectory: Run2\n",
      "Trajectory: Run5\n",
      "Trajectory: Run3\n",
      "Trajectory: Run4\n",
      "Trajectory: Run1\n",
      "\n",
      "2 - Trial9-2\n",
      "Trajectory: Run2\n",
      "Trajectory: Run5\n",
      "Trajectory: Run3\n",
      "Trajectory: Run4\n",
      "Trajectory: Run1\n",
      "\n",
      "3 - Trial9-6\n",
      "Trajectory: Run2\n",
      "Trajectory: Run5\n",
      "Trajectory: Run3\n",
      "Trajectory: Run4\n",
      "Trajectory: Run1\n",
      "\n",
      "4 - Trial9-7\n",
      "Trajectory: Run2\n",
      "Trajectory: Run5\n",
      "Trajectory: Run3\n",
      "Trajectory: Run4\n",
      "Trajectory: Run1\n",
      "\n",
      "5 - Trial9-5\n",
      "Trajectory: Run2\n",
      "Trajectory: Run5\n",
      "Trajectory: Run3\n",
      "Trajectory: Run4\n",
      "Trajectory: Run1\n",
      "\n",
      "6 - Trial9-1\n",
      "Trajectory: Run2\n",
      "Trajectory: Run5\n",
      "Trajectory: Run3\n",
      "Trajectory: Run4\n",
      "Trajectory: Run1\n",
      "\n",
      "7 - Trial9-3\n",
      "Trajectory: Run2\n",
      "Trajectory: Run5\n",
      "Trajectory: Run3\n",
      "Trajectory: Run4\n",
      "Trajectory: Run1\n",
      "\n",
      "8 - Trial9-4\n",
      "Trajectory: Run2\n",
      "Trajectory: Run5\n"
     ]
    }
   ],
   "source": [
    "for trial_index, trial in enumerate(os.listdir(trial_dir), start=1):\n",
    "    trial_path = os.path.join(trial_dir, trial)\n",
    "    print('\\n%i - %s' % (trial_index, trial))\n",
    "    change_xyz_trajectories(trial_path)"
   ]
  },
  {
   "cell_type": "code",
   "execution_count": null,
   "metadata": {},
   "outputs": [],
   "source": []
  },
  {
   "cell_type": "code",
   "execution_count": null,
   "metadata": {
    "collapsed": true
   },
   "outputs": [],
   "source": []
  }
 ],
 "metadata": {
  "kernelspec": {
   "display_name": "Python 3",
   "language": "python",
   "name": "python3"
  },
  "language_info": {
   "codemirror_mode": {
    "name": "ipython",
    "version": 3
   },
   "file_extension": ".py",
   "mimetype": "text/x-python",
   "name": "python",
   "nbconvert_exporter": "python",
   "pygments_lexer": "ipython3",
   "version": "3.5.2"
  }
 },
 "nbformat": 4,
 "nbformat_minor": 1
}
