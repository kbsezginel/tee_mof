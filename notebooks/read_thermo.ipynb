{
 "cells": [
  {
   "cell_type": "code",
   "execution_count": null,
   "metadata": {
    "collapsed": false
   },
   "outputs": [],
   "source": [
    "import os\n",
    "from teemof.read import read_log, read_thermo_data\n",
    "%pylab inline"
   ]
  },
  {
   "cell_type": "markdown",
   "metadata": {},
   "source": [
    "### Plotting thermo data for single run"
   ]
  },
  {
   "cell_type": "code",
   "execution_count": null,
   "metadata": {
    "collapsed": false
   },
   "outputs": [],
   "source": [
    "trial_dir = os.path.join(os.getcwd(), 'Results', 'Trial6', 'Trial6-2')\n",
    "\n",
    "# Read log file from Run1 of given trial\n",
    "log_path = os.path.join(trial_dir, 'Run1', 'log.lammps')\n",
    "nvt, nve = read_log(log_path)\n",
    "\n",
    "# Select data to plot\n",
    "x_data = 'step'\n",
    "y_data = 'temp' # Options: (press, temp, tot_eng, pair_eng, mol_eng, step)\n",
    "\n",
    "# Plot thermodynamic data\n",
    "plt.plot(nvt[x_data], nvt[y_data])\n",
    "plt.plot(nve[x_data], nve[y_data])\n",
    "plt.legend(['NVT', 'NVE'], loc=4)\n",
    "plt.title('Thermodynamic Data')\n",
    "plt.xlabel(x_data)\n",
    "plt.ylabel(y_data)"
   ]
  },
  {
   "cell_type": "markdown",
   "metadata": {
    "collapsed": false
   },
   "source": [
    "### Plot thermo data for multiple trials"
   ]
  },
  {
   "cell_type": "code",
   "execution_count": null,
   "metadata": {
    "collapsed": false
   },
   "outputs": [],
   "source": [
    "trial_dir = os.path.join(os.getcwd(), 'Results', 'Trial6')\n",
    "lgnd = []\n",
    "fontsize = 12\n",
    "sigma = [4, 4.5, 4.75, 5.0, 5.25, 5.5, 6.0]\n",
    "# sigma = [1, 2, 3, 4, 5, 6]\n",
    "\n",
    "sigma = [4, 4.5, 4.75, 5.0, 5.25, 5.5, 6.0, 3, 3.25, 3.5, 3.75, 4.25]\n",
    "trial_list = sorted(os.listdir(trial_dir))\n",
    "trial_list = [x for (y,x) in sorted(zip(sigma,trial_list))]\n",
    "sigma = sorted(sigma)\n",
    "\n",
    "plt.figure(figsize=(10, 6), dpi=300)\n",
    "start = 4\n",
    "end = 10\n",
    "for i, trial in enumerate(trial_list[start:end], start=start):\n",
    "    log_path = os.path.join(trial_dir, trial, 'Run2', 'log.lammps')\n",
    "    a, b = read_log(log_path)\n",
    "    plt.plot(a['step'], a['press'])\n",
    "    lgnd.append('Sigma: %.2f' % sigma[i])\n",
    "    # lgnd.append('%s' % trial)\n",
    "    \n",
    "single_mof_log = os.path.join(os.getcwd(), 'Results', 'Trial5', 'Trial5-2', 'Run1', 'log.lammps')\n",
    "a, b = read_log(single_mof_log)\n",
    "plt.plot(a['step'], a['press'], '--k')\n",
    "lgnd.append('Single MOF (Sigma: 3.405)')\n",
    "\n",
    "plt.title('Pressure Change with Sigma (NVT)', fontsize=fontsize + 4)\n",
    "plt.xticks(fontsize=fontsize)\n",
    "plt.yticks(fontsize=fontsize)\n",
    "plt.ylabel('Pressure', fontsize=fontsize + 2)\n",
    "plt.xlabel('Steps', fontsize=fontsize + 2)\n",
    "# plt.ylim(0, 2500)\n",
    "plt.legend(lgnd, loc=(1.05,0), fontsize=fontsize + 2)"
   ]
  },
  {
   "cell_type": "code",
   "execution_count": null,
   "metadata": {
    "collapsed": false
   },
   "outputs": [],
   "source": [
    "trial_dir = os.path.join(os.getcwd(), 'Results', 'Trial6')\n",
    "lgnd = []\n",
    "fontsize = 12\n",
    "sigma = [4, 4.5, 4.75, 5.0, 5.25, 5.5, 6.0]\n",
    "# sigma = [1, 2, 3, 4, 5, 6]\n",
    "# sigma = [3, 3.25, 3.5, 3.75, 4.25]\n",
    "trial_list = sorted(os.listdir(trial_dir))\n",
    "plt.figure(figsize=(10, 6), dpi=300)\n",
    "for i, trial in enumerate(trial_list):\n",
    "    log_path = os.path.join(trial_dir, trial, 'Run2', 'log.lammps')\n",
    "    a, b = read_log(log_path)\n",
    "    plt.plot(a['step'], a['press'])\n",
    "    lgnd.append('Sigma: %.2f' % sigma[i])\n",
    "    # lgnd.append('%s' % trial)\n",
    "    \n",
    "single_mof_log = os.path.join(os.getcwd(), 'Results', 'Trial5', 'Trial5-2', 'Run1', 'log.lammps')\n",
    "a, b = read_log(single_mof_log)\n",
    "plt.plot(a['step'], a['press'], '--k')\n",
    "lgnd.append('Single MOF (Sigma: 3.405)')\n",
    "\n",
    "plt.title('Pressure Change with Sigma (NVT)', fontsize=fontsize + 4)\n",
    "plt.xticks(fontsize=fontsize)\n",
    "plt.yticks(fontsize=fontsize)\n",
    "plt.ylabel('Pressure (atm)', fontsize=fontsize + 2)\n",
    "plt.xlabel('Steps', fontsize=fontsize + 2)\n",
    "plt.legend(lgnd, loc=(1.05,0))"
   ]
  },
  {
   "cell_type": "code",
   "execution_count": null,
   "metadata": {
    "collapsed": false
   },
   "outputs": [],
   "source": []
  }
 ],
 "metadata": {
  "kernelspec": {
   "display_name": "Python 3",
   "language": "python",
   "name": "python3"
  },
  "language_info": {
   "codemirror_mode": {
    "name": "ipython",
    "version": 3
   },
   "file_extension": ".py",
   "mimetype": "text/x-python",
   "name": "python",
   "nbconvert_exporter": "python",
   "pygments_lexer": "ipython3",
   "version": "3.5.2"
  }
 },
 "nbformat": 4,
 "nbformat_minor": 0
}
