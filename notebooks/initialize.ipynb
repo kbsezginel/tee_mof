{
 "cells": [
  {
   "cell_type": "code",
   "execution_count": null,
   "metadata": {
    "collapsed": true
   },
   "outputs": [],
   "source": [
    "import os\n",
    "import shutil\n",
    "from teemof.initialize import *\n",
    "from teemof.run import initialize_trial"
   ]
  },
  {
   "cell_type": "markdown",
   "metadata": {},
   "source": [
    "## Select sample files to modify\n",
    "Different samples are available for interpenetrated and single MOF with different flux directions\n",
    "\n",
    "Check *teemof/initialize.py* for available files\n",
    "\n",
    "All available file paths are given in *sample_files* dictionary"
   ]
  },
  {
   "cell_type": "code",
   "execution_count": null,
   "metadata": {
    "collapsed": false
   },
   "outputs": [],
   "source": [
    "sample_dir = r'/home/kutay/Documents/git/tee_mof/sample'\n",
    "sample_files = dict()\n",
    "sample_files['inp'] = os.path.join(sample_dir, 'in3_ipmof.cond.sample')\n",
    "sample_files['qsub'] = os.path.join(sample_dir, 'lammps_qsub.sh.sample')\n",
    "sample_files['data'] = os.path.join(sample_dir, 'lammps_ipmof.data.sample')\n",
    "\n",
    "inp_lines, data_lines, qsub_lines = get_files(sample_files)"
   ]
  },
  {
   "cell_type": "markdown",
   "metadata": {},
   "source": [
    "## Trial directory"
   ]
  },
  {
   "cell_type": "code",
   "execution_count": null,
   "metadata": {
    "collapsed": false
   },
   "outputs": [],
   "source": [
    "trial_name = 'Trial7'\n",
    "'\n",
    "trial_dir = os.path.join(os.getcwd(), 'Trials', trial_name)\n",
    "os.makedirs(trial_dir) if not os.path.exists(trial_dir) else None"
   ]
  },
  {
   "cell_type": "markdown",
   "metadata": {},
   "source": [
    "## Single Trial\n",
    "Here a single trial with multiple runs are initialized"
   ]
  },
  {
   "cell_type": "code",
   "execution_count": null,
   "metadata": {
    "collapsed": false
   },
   "outputs": [],
   "source": [
    "coefficient_list = [[1, 1, 0, 5], [2, 2, 0, 5], [1, 2, 0.1, 5]]\n",
    "thermo_step = 100\n",
    "masses = [[1, 39.948], [2, 20.1797]]\n",
    "\n",
    "inp_lines = change_thermo(inp_lines, thermo=thermo_step)\n",
    "inp_lines = change_pair_coeff(inp_lines, coefficient_list)\n",
    "data_lines = change_masses(data_lines, masses)\n",
    "qsub_lines = lammps_qsub(qsub_lines, name='TrialX', walltime='12:00:00', nodes=1, ppn=4, queue='shared')\n",
    "\n",
    "number_of_runs = 10\n",
    "initialize_trial(trial_dir, number_of_runs, inp_lines, data_lines, qsub_lines)"
   ]
  },
  {
   "cell_type": "markdown",
   "metadata": {},
   "source": [
    "## Multiple Trials\n",
    "Here a list of epsilon values are given to create different trials with given number of runs each "
   ]
  },
  {
   "cell_type": "code",
   "execution_count": null,
   "metadata": {
    "collapsed": false
   },
   "outputs": [],
   "source": [
    "epsilon = [0.01, 0.05, 0.1, 0.5, 1, 5, 10]\n",
    "sg = 4.75 \n",
    "number_of_runs = 5\n",
    "qsub_lines = lammps_qsub(qsub_lines, name=trial_name, walltime='06:00:00', nodes=1, ppn=4, queue='shared')\n",
    "\n",
    "for trial_index, eps in enumerate(epsilon):\n",
    "    new_trial_dir = os.path.join(trial_dir, '%s-%i' % (trial_name, trial_index + 1))  # Initialize trial directory\n",
    "    if not os.path.exists(new_trial_dir):\n",
    "        os.mkdir(new_trial_dir)\n",
    "        \n",
    "    coefficient_list = [[1, 1, 0, sg],\n",
    "                        [2, 2, 0, sg],\n",
    "                        [1, 2, eps, sg]]\n",
    "\n",
    "    input_lines = change_thermo(inp_lines, thermo=100)\n",
    "    input_lines = change_pair_coeff(inp_lines, coefficient_list)\n",
    "    data_lines = change_masses(data_lines, [[1, 39.948], [2, mass]])\n",
    "    \n",
    "    run_info = dict(sigma=sg, epsilon=eps, name=\"Epsilon: %.2f\" % eps, thermo=100, files=sample_files)\n",
    "    initialize_trial(new_trial_dir, number_of_runs, input_lines, data_lines, qsub_lines, info=run_info)"
   ]
  },
  {
   "cell_type": "code",
   "execution_count": null,
   "metadata": {
    "collapsed": false
   },
   "outputs": [],
   "source": []
  },
  {
   "cell_type": "code",
   "execution_count": null,
   "metadata": {
    "collapsed": true
   },
   "outputs": [],
   "source": []
  }
 ],
 "metadata": {
  "kernelspec": {
   "display_name": "Python 3",
   "language": "python",
   "name": "python3"
  },
  "language_info": {
   "codemirror_mode": {
    "name": "ipython",
    "version": 3
   },
   "file_extension": ".py",
   "mimetype": "text/x-python",
   "name": "python",
   "nbconvert_exporter": "python",
   "pygments_lexer": "ipython3",
   "version": "3.5.2"
  }
 },
 "nbformat": 4,
 "nbformat_minor": 0
}
