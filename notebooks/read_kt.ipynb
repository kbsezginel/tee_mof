{
 "cells": [
  {
   "cell_type": "code",
   "execution_count": null,
   "metadata": {},
   "outputs": [],
   "source": [
    "import os\n",
    "from teemof.read import *\n",
    "from teemof.visualize import *\n",
    "%pylab inline"
   ]
  },
  {
   "cell_type": "code",
   "execution_count": null,
   "metadata": {},
   "outputs": [],
   "source": [
    "trial_dir = os.path.join(os.getcwd(), 'Results', 'Trial6', 'Trial6-2')\n",
    "\n",
    "trial_name = os.path.split(trial_dir)[1]\n",
    "run_data, time, runs_id = read_runs(trial_dir)"
   ]
  },
  {
   "cell_type": "markdown",
   "metadata": {},
   "source": [
    "## Plot results for each run and average "
   ]
  },
  {
   "cell_type": "code",
   "execution_count": null,
   "metadata": {},
   "outputs": [],
   "source": [
    "plot_runs(run_data, time, runs_id, title=trial_name, size=(10,6))"
   ]
  },
  {
   "cell_type": "markdown",
   "metadata": {},
   "source": [
    "## Plot results for each direction separately "
   ]
  },
  {
   "cell_type": "code",
   "execution_count": null,
   "metadata": {},
   "outputs": [],
   "source": [
    "plot_directions(run_data, time, runs_id, title=trial_name, size=(10,6))"
   ]
  },
  {
   "cell_type": "markdown",
   "metadata": {},
   "source": [
    "## Read multiple trials with multiple runs"
   ]
  },
  {
   "cell_type": "code",
   "execution_count": null,
   "metadata": {},
   "outputs": [],
   "source": [
    "mult_trial_dir = os.path.join(os.getcwd(), 'Results', 'Trial6')\n",
    "\n",
    "trial_data, trial_names = read_trials(mult_trial_dir, verbose=False)"
   ]
  },
  {
   "cell_type": "markdown",
   "metadata": {},
   "source": [
    "## Plot multiple trials"
   ]
  },
  {
   "cell_type": "code",
   "execution_count": null,
   "metadata": {},
   "outputs": [],
   "source": [
    "legend = [read_legend(os.path.join(mult_trial_dir, i), key='legend') for i in trial_names]\n",
    "\n",
    "# Sorting data and legend acoording to epsilon values\n",
    "new_data = [x for (y,x) in sorted(zip(legend,trial_data))]\n",
    "legend = [y for (y,x) in sorted(zip(legend,trial_data))]\n",
    "\n",
    "plot_runs(new_data, time, legend, size=(10,6), limit=2000, cmap='cool', title='', avg=False)"
   ]
  },
  {
   "cell_type": "code",
   "execution_count": null,
   "metadata": {},
   "outputs": [],
   "source": []
  }
 ],
 "metadata": {
  "kernelspec": {
   "display_name": "Python 3",
   "language": "python",
   "name": "python3"
  },
  "language_info": {
   "codemirror_mode": {
    "name": "ipython",
    "version": 3
   },
   "file_extension": ".py",
   "mimetype": "text/x-python",
   "name": "python",
   "nbconvert_exporter": "python",
   "pygments_lexer": "ipython3",
   "version": "3.5.2"
  }
 },
 "nbformat": 4,
 "nbformat_minor": 1
}
