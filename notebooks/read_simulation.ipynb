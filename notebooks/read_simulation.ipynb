{
 "cells": [
  {
   "cell_type": "code",
   "execution_count": 1,
   "metadata": {
    "collapsed": true
   },
   "outputs": [],
   "source": [
    "import os\n",
    "from teemof import Simulation\n",
    "from teemof.parameters import k_parameters\n",
    "from teemof.visualize import plot_runs\n",
    "%matplotlib inline"
   ]
  },
  {
   "cell_type": "markdown",
   "metadata": {},
   "source": [
    "### Read single run"
   ]
  },
  {
   "cell_type": "code",
   "execution_count": null,
   "metadata": {},
   "outputs": [],
   "source": [
    "run_dir = os.path.join(os.getcwd(), '..', 'tests', 'ideal-mof-trial', 'Run1')\n",
    "k_par = k_parameters.copy()\n",
    "k_par['isotropic'] = True\n",
    "sim = Simulation(read=run_dir, setup='run', parameters=k_par)"
   ]
  },
  {
   "cell_type": "code",
   "execution_count": null,
   "metadata": {},
   "outputs": [],
   "source": [
    "k_run = [sim.run['k'][d] for d in sim.run['directions']]\n",
    "plot_runs(k_run, sim.run['time'], sim.run['directions'], title=sim.run['name'], size=(10,6), avg=True)"
   ]
  },
  {
   "cell_type": "markdown",
   "metadata": {},
   "source": [
    "### Read trial with multiple runs"
   ]
  },
  {
   "cell_type": "code",
   "execution_count": null,
   "metadata": {},
   "outputs": [],
   "source": [
    "trial_dir = os.path.join(os.getcwd(), '..', 'tests', 'ideal-mof-trial')\n",
    "k_par = k_parameters.copy()\n",
    "k_par['isotropic'] = True\n",
    "k_par['average'] = True\n",
    "sim = Simulation(read=trial_dir, setup='trial', parameters=k_par)"
   ]
  },
  {
   "cell_type": "code",
   "execution_count": null,
   "metadata": {
    "collapsed": true
   },
   "outputs": [],
   "source": [
    "trial_data = [sim.trial['data'][run]['k']['iso'] for run in sim.trial['runs']]\n",
    "plot_runs(trial_data, sim.trial['data']['Run1']['time'], sim.trial['runs'], title=sim.trial['name'])"
   ]
  },
  {
   "cell_type": "markdown",
   "metadata": {},
   "source": [
    "### Read multiple trials with multiple runs"
   ]
  },
  {
   "cell_type": "code",
   "execution_count": null,
   "metadata": {},
   "outputs": [],
   "source": [
    "trial_dir = os.path.join(os.getcwd(), '..', 'tests', 'ideal-mof-trial-set')\n",
    "k_par = k_parameters.copy()\n",
    "k_par['isotropic'] = True\n",
    "k_par['average'] = True\n",
    "sim = Simulation(read=trial_dir, setup='trial_set', parameters=k_par)"
   ]
  },
  {
   "cell_type": "code",
   "execution_count": null,
   "metadata": {},
   "outputs": [],
   "source": [
    "trial_set_data = [sim.trial_set['data'][trial]['avg']['k']['iso'] for trial in sim.trial_set['trials']]\n",
    "plot_runs(trial_set_data, sim.trial_set['data']['trial1']['data']['Run1']['time'], sim.trial_set['trials'], title=sim.trial_set['name'])"
   ]
  },
  {
   "cell_type": "code",
   "execution_count": null,
   "metadata": {
    "collapsed": true
   },
   "outputs": [],
   "source": []
  }
 ],
 "metadata": {
  "kernelspec": {
   "display_name": "Python 3",
   "language": "python",
   "name": "python3"
  },
  "language_info": {
   "codemirror_mode": {
    "name": "ipython",
    "version": 3
   },
   "file_extension": ".py",
   "mimetype": "text/x-python",
   "name": "python",
   "nbconvert_exporter": "python",
   "pygments_lexer": "ipython3",
   "version": "3.5.2"
  }
 },
 "nbformat": 4,
 "nbformat_minor": 1
}
