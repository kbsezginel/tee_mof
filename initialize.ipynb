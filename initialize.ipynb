{
 "cells": [
  {
   "cell_type": "code",
   "execution_count": 1,
   "metadata": {
    "collapsed": true
   },
   "outputs": [],
   "source": [
    "import os\n",
    "import shutil\n",
    "from teemof.initialize import *\n",
    "from teemof.run import initialize_trial"
   ]
  },
  {
   "cell_type": "markdown",
   "metadata": {},
   "source": [
    "## Select sample files to modify"
   ]
  },
  {
   "cell_type": "code",
   "execution_count": 2,
   "metadata": {
    "collapsed": false
   },
   "outputs": [],
   "source": [
    "inp_lines, data_lines, qsub_lines = get_files(sample_files)"
   ]
  },
  {
   "cell_type": "markdown",
   "metadata": {},
   "source": [
    "## Trial directory"
   ]
  },
  {
   "cell_type": "code",
   "execution_count": 3,
   "metadata": {
    "collapsed": false
   },
   "outputs": [],
   "source": [
    "trial_name = 'TrialX'\n",
    "\n",
    "trial_dir = os.path.join(os.getcwd(), 'Trials', trial_name)\n",
    "os.makedirs(trial_dir) if not os.path.exists(trial_dir) else None"
   ]
  },
  {
   "cell_type": "markdown",
   "metadata": {},
   "source": [
    "## Single Trial"
   ]
  },
  {
   "cell_type": "code",
   "execution_count": 4,
   "metadata": {
    "collapsed": false
   },
   "outputs": [
    {
     "name": "stdout",
     "output_type": "stream",
     "text": [
      "Initializing TrialX...\n",
      "Generating seed numbers between 123456 and 123466\n",
      "Run 1 / 10\n",
      "Run 2 / 10\n",
      "Run 3 / 10\n",
      "Run 4 / 10\n",
      "Run 5 / 10\n",
      "Run 6 / 10\n",
      "Run 7 / 10\n",
      "Run 8 / 10\n",
      "Run 9 / 10\n",
      "Run 10 / 10\n"
     ]
    }
   ],
   "source": [
    "coefficient_list = [[1, 1, 0, 5], [2, 2, 0, 5], [1, 2, 0.1, 5]]\n",
    "thermo_step = 100\n",
    "masses = [[1, 39.948], [2, 20.1797]]\n",
    "\n",
    "inp_lines = change_thermo(inp_lines, thermo=thermo_step)\n",
    "inp_lines = change_pair_coeff(inp_lines, coefficient_list)\n",
    "data_lines = change_masses(data_lines, masses)\n",
    "qsub_lines = lammps_qsub(qsub_lines, name='TrialX', walltime='12:00:00', nodes=1, ppn=4, queue='shared')\n",
    "\n",
    "number_of_runs = 10\n",
    "initialize_trial(trial_dir, number_of_runs, inp_lines, data_lines, qsub_lines)"
   ]
  },
  {
   "cell_type": "code",
   "execution_count": null,
   "metadata": {
    "collapsed": true
   },
   "outputs": [],
   "source": [
    "epsilon = [0.01, 0.025, 0.05, 0.075, 0.1]\n",
    "\n",
    "for trial_index, pc in enumerate(pair_coefficients):\n",
    "    trial_dir = os.path.join(trials_dir, 'Trial3-%i' % (trial_index + 1))      # Initialize trial directory\n",
    "    if not os.path.exists(trial_dir):\n",
    "        os.mkdir(trial_dir)\n",
    "        \n",
    "    coefficient_list = [[1, 1, 0, 3.405],\n",
    "                        [2, 2, 0, 3.405],\n",
    "                        [1, 2, pc, 3.405]]\n",
    "    \n",
    "    with open(input_path, 'r') as sample_input:\n",
    "        input_lines = sample_input.readlines()\n",
    "\n",
    "    for i in range(5):\n",
    "        run_dir = os.path.join(trial_dir, 'Run%i' % i)\n",
    "        if not os.path.exists(run_dir):\n",
    "            os.mkdir(run_dir)\n",
    "\n",
    "        input_lines = change_seed(input_lines, seed=seeds[i])\n",
    "        input_lines = change_pair_coeff(input_lines, coefficient_list)\n",
    "        job_name = 'PC%i-Run%i' % (pc, i)\n",
    "        qsub_lines = lammps_qsub(qsub_path, name=job_name)\n",
    "\n",
    "        inp = os.path.join(run_dir, 'in.cond')\n",
    "        qs = os.path.join(run_dir, 'lammps_qsub.sh')\n",
    "        dt = os.path.join(run_dir, 'lammps.data')\n",
    "\n",
    "        export_lines(input_lines, inp)\n",
    "        export_lines(qsub_lines, qs)\n",
    "        shutil.copy(data_path, dt)"
   ]
  }
 ],
 "metadata": {
  "kernelspec": {
   "display_name": "Python 3",
   "language": "python",
   "name": "python3"
  },
  "language_info": {
   "codemirror_mode": {
    "name": "ipython",
    "version": 3
   },
   "file_extension": ".py",
   "mimetype": "text/x-python",
   "name": "python",
   "nbconvert_exporter": "python",
   "pygments_lexer": "ipython3",
   "version": "3.5.1"
  }
 },
 "nbformat": 4,
 "nbformat_minor": 0
}
