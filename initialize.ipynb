{
 "cells": [
  {
   "cell_type": "code",
   "execution_count": 1,
   "metadata": {
    "collapsed": true
   },
   "outputs": [],
   "source": [
    "import os\n",
    "import shutil\n",
    "from teemof.initialize import *\n",
    "from teemof.run import initialize_trial"
   ]
  },
  {
   "cell_type": "markdown",
   "metadata": {},
   "source": [
    "## Select sample files to modify"
   ]
  },
  {
   "cell_type": "code",
   "execution_count": 2,
   "metadata": {
    "collapsed": false
   },
   "outputs": [],
   "source": [
    "inp_lines, data_lines, qsub_lines = get_files(sample_files)"
   ]
  },
  {
   "cell_type": "markdown",
   "metadata": {},
   "source": [
    "## Trial directory"
   ]
  },
  {
   "cell_type": "code",
   "execution_count": 3,
   "metadata": {
    "collapsed": false
   },
   "outputs": [],
   "source": [
    "trial_name = 'Trial6'\n",
    "\n",
    "trial_dir = os.path.join(os.getcwd(), 'Trials', trial_name)\n",
    "os.makedirs(trial_dir) if not os.path.exists(trial_dir) else None"
   ]
  },
  {
   "cell_type": "markdown",
   "metadata": {},
   "source": [
    "## Single Trial"
   ]
  },
  {
   "cell_type": "code",
   "execution_count": 4,
   "metadata": {
    "collapsed": false
   },
   "outputs": [
    {
     "name": "stdout",
     "output_type": "stream",
     "text": [
      "Initializing TrialX...\n",
      "Generating seed numbers between 123456 and 123466\n",
      "Run 1 / 10\n",
      "Run 2 / 10\n",
      "Run 3 / 10\n",
      "Run 4 / 10\n",
      "Run 5 / 10\n",
      "Run 6 / 10\n",
      "Run 7 / 10\n",
      "Run 8 / 10\n",
      "Run 9 / 10\n",
      "Run 10 / 10\n"
     ]
    }
   ],
   "source": [
    "coefficient_list = [[1, 1, 0, 5], [2, 2, 0, 5], [1, 2, 0.1, 5]]\n",
    "thermo_step = 100\n",
    "masses = [[1, 39.948], [2, 20.1797]]\n",
    "\n",
    "inp_lines = change_thermo(inp_lines, thermo=thermo_step)\n",
    "inp_lines = change_pair_coeff(inp_lines, coefficient_list)\n",
    "data_lines = change_masses(data_lines, masses)\n",
    "qsub_lines = lammps_qsub(qsub_lines, name='TrialX', walltime='12:00:00', nodes=1, ppn=4, queue='shared')\n",
    "\n",
    "number_of_runs = 10\n",
    "initialize_trial(trial_dir, number_of_runs, inp_lines, data_lines, qsub_lines)"
   ]
  },
  {
   "cell_type": "markdown",
   "metadata": {},
   "source": [
    "## Multiple Trials"
   ]
  },
  {
   "cell_type": "code",
   "execution_count": 4,
   "metadata": {
    "collapsed": false
   },
   "outputs": [
    {
     "name": "stdout",
     "output_type": "stream",
     "text": [
      "Initializing Trial6-1...\n",
      "Generating seed numbers between 123456 and 123461\n",
      "Run 1 / 5\n",
      "Run 2 / 5\n",
      "Run 3 / 5\n",
      "Run 4 / 5\n",
      "Run 5 / 5\n",
      "Initializing Trial6-2...\n",
      "Generating seed numbers between 123456 and 123461\n",
      "Run 1 / 5\n",
      "Run 2 / 5\n",
      "Run 3 / 5\n",
      "Run 4 / 5\n",
      "Run 5 / 5\n",
      "Initializing Trial6-3...\n",
      "Generating seed numbers between 123456 and 123461\n",
      "Run 1 / 5\n",
      "Run 2 / 5\n",
      "Run 3 / 5\n",
      "Run 4 / 5\n",
      "Run 5 / 5\n",
      "Initializing Trial6-4...\n",
      "Generating seed numbers between 123456 and 123461\n",
      "Run 1 / 5\n",
      "Run 2 / 5\n",
      "Run 3 / 5\n",
      "Run 4 / 5\n",
      "Run 5 / 5\n",
      "Initializing Trial6-5...\n",
      "Generating seed numbers between 123456 and 123461\n",
      "Run 1 / 5\n",
      "Run 2 / 5\n",
      "Run 3 / 5\n",
      "Run 4 / 5\n",
      "Run 5 / 5\n",
      "Initializing Trial6-6...\n",
      "Generating seed numbers between 123456 and 123461\n",
      "Run 1 / 5\n",
      "Run 2 / 5\n",
      "Run 3 / 5\n",
      "Run 4 / 5\n",
      "Run 5 / 5\n",
      "Initializing Trial6-7...\n",
      "Generating seed numbers between 123456 and 123461\n",
      "Run 1 / 5\n",
      "Run 2 / 5\n",
      "Run 3 / 5\n",
      "Run 4 / 5\n",
      "Run 5 / 5\n"
     ]
    }
   ],
   "source": [
    "sigma = [4, 4.5, 4.75, 5.0, 5.25, 5.5, 6.0]\n",
    "eps = 0.1\n",
    "number_of_runs = 5\n",
    "\n",
    "for trial_index, sg in enumerate(sigma):\n",
    "    new_trial_dir = os.path.join(trial_dir, '%s-%i' % (trial_name, trial_index + 1))      # Initialize trial directory\n",
    "    if not os.path.exists(new_trial_dir):\n",
    "        os.mkdir(new_trial_dir)\n",
    "        \n",
    "    coefficient_list = [[1, 1, 0, sg],\n",
    "                        [2, 2, 0, sg],\n",
    "                        [1, 2, eps, sg]]\n",
    "\n",
    "    input_lines = change_thermo(inp_lines, thermo=100)\n",
    "    input_lines = change_pair_coeff(inp_lines, coefficient_list)\n",
    "    \n",
    "    initialize_trial(new_trial_dir, number_of_runs, input_lines, data_lines, qsub_lines)\n",
    "\n",
    "#     for i in range(num_of_runs):\n",
    "#         run_dir = os.path.join(trial_dir, 'Run%i' % i)\n",
    "#         if not os.path.exists(run_dir):\n",
    "#             os.mkdir(run_dir)\n",
    "\n",
    "#         input_lines = change_seed(inp_lines, seed=seeds[i])\n",
    "#         input_lines = change_pair_coeff(inp_lines, coefficient_list)\n",
    "#         job_name = '%s%i-Run%i-s:%i' % (trial_name, trial_index, i, sg)\n",
    "#         qsub_lines = lammps_qsub(qsub_path, name=job_name)\n",
    "\n",
    "#         inp = os.path.join(run_dir, 'in.cond')\n",
    "#         qs = os.path.join(run_dir, 'lammps_qsub.sh')\n",
    "#         dt = os.path.join(run_dir, 'lammps.data')\n",
    "\n",
    "#         export_lines(input_lines, inp)\n",
    "#         export_lines(qsub_lines, qs)\n",
    "#         shutil.copy(data_path, dt)"
   ]
  },
  {
   "cell_type": "code",
   "execution_count": null,
   "metadata": {
    "collapsed": true
   },
   "outputs": [],
   "source": []
  }
 ],
 "metadata": {
  "kernelspec": {
   "display_name": "Python 3",
   "language": "python",
   "name": "python3"
  },
  "language_info": {
   "codemirror_mode": {
    "name": "ipython",
    "version": 3
   },
   "file_extension": ".py",
   "mimetype": "text/x-python",
   "name": "python",
   "nbconvert_exporter": "python",
   "pygments_lexer": "ipython3",
   "version": "3.5.1"
  }
 },
 "nbformat": 4,
 "nbformat_minor": 0
}
