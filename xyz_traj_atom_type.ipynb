{
 "cells": [
  {
   "cell_type": "code",
   "execution_count": null,
   "metadata": {
    "collapsed": true
   },
   "outputs": [],
   "source": [
    "import os"
   ]
  },
  {
   "cell_type": "code",
   "execution_count": null,
   "metadata": {
    "collapsed": true
   },
   "outputs": [],
   "source": [
    "trial_dir = os.path.join(os.getcwd(), 'Results', 'Trial4')"
   ]
  },
  {
   "cell_type": "code",
   "execution_count": null,
   "metadata": {
    "collapsed": true
   },
   "outputs": [],
   "source": [
    "def change_traj_atom_names(traj_path):\n",
    "    \"\"\" Change atom names of xyz trajectory file \"\"\"\n",
    "    with open(traj_path, 'r') as t:\n",
    "        traj = t.readlines()\n",
    "    new_traj = []\n",
    "    for t in traj:\n",
    "        new_t = list(t)\n",
    "        if t[0] == '1':\n",
    "            new_t[0] = 'C'\n",
    "        if t[0] == '2':\n",
    "            new_t[0] = 'O'\n",
    "        new_t = ''.join(new_t)\n",
    "        new_traj.append(new_t)\n",
    "    new_traj_path = os.path.join(os.path.split(traj_path)[0], 'new_traj.xyz')\n",
    "    with open(new_traj_path, 'w') as nt:\n",
    "        for t in new_traj:\n",
    "            nt.write(t)"
   ]
  },
  {
   "cell_type": "code",
   "execution_count": null,
   "metadata": {
    "collapsed": false
   },
   "outputs": [],
   "source": [
    "for trial_index, trial in enumerate(os.listdir(trial_dir)):\n",
    "    trial_path = os.path.join(trial_dir, trial)\n",
    "    print('\\n%i - %s' % (trial_index, trial))\n",
    "    for run_index, run in enumerate(os.listdir(trial_path)):\n",
    "        print('\\r%i - %s' % (run_index, run), end='')\n",
    "        run_path = os.path.join(trial_path, run)\n",
    "        if os.path.isdir(run_path):\n",
    "            traj_path = os.path.join(run_path, 'traj.xyz')\n",
    "            change_traj_atom_names(traj_path)"
   ]
  },
  {
   "cell_type": "code",
   "execution_count": null,
   "metadata": {
    "collapsed": true
   },
   "outputs": [],
   "source": []
  },
  {
   "cell_type": "code",
   "execution_count": null,
   "metadata": {
    "collapsed": false
   },
   "outputs": [],
   "source": []
  },
  {
   "cell_type": "code",
   "execution_count": null,
   "metadata": {
    "collapsed": false
   },
   "outputs": [],
   "source": []
  },
  {
   "cell_type": "code",
   "execution_count": null,
   "metadata": {
    "collapsed": false
   },
   "outputs": [],
   "source": []
  },
  {
   "cell_type": "code",
   "execution_count": null,
   "metadata": {
    "collapsed": true
   },
   "outputs": [],
   "source": []
  },
  {
   "cell_type": "code",
   "execution_count": null,
   "metadata": {
    "collapsed": false
   },
   "outputs": [],
   "source": []
  },
  {
   "cell_type": "code",
   "execution_count": null,
   "metadata": {
    "collapsed": true
   },
   "outputs": [],
   "source": []
  }
 ],
 "metadata": {
  "kernelspec": {
   "display_name": "Python 3",
   "language": "python",
   "name": "python3"
  },
  "language_info": {
   "codemirror_mode": {
    "name": "ipython",
    "version": 3
   },
   "file_extension": ".py",
   "mimetype": "text/x-python",
   "name": "python",
   "nbconvert_exporter": "python",
   "pygments_lexer": "ipython3",
   "version": "3.5.1"
  }
 },
 "nbformat": 4,
 "nbformat_minor": 1
}
